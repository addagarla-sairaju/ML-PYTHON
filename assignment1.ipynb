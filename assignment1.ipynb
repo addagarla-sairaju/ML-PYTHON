{
  "nbformat": 4,
  "nbformat_minor": 0,
  "metadata": {
    "colab": {
      "provenance": [],
      "toc_visible": true,
      "authorship_tag": "ABX9TyNZT08eXSA7lQ+ifJP8g1G7",
      "include_colab_link": true
    },
    "kernelspec": {
      "name": "python3",
      "display_name": "Python 3"
    },
    "language_info": {
      "name": "python"
    }
  },
  "cells": [
    {
      "cell_type": "markdown",
      "metadata": {
        "id": "view-in-github",
        "colab_type": "text"
      },
      "source": [
        "<a href=\"https://colab.research.google.com/github/addagarla-sairaju/ML-PYTHON/blob/main/assignment1.ipynb\" target=\"_parent\"><img src=\"https://colab.research.google.com/assets/colab-badge.svg\" alt=\"Open In Colab\"/></a>"
      ]
    },
    {
      "cell_type": "markdown",
      "source": [
        "###ASSIGNMENT\n",
        "Q1. Perform arithmetic operations on NumPy arrays."
      ],
      "metadata": {
        "id": "fkKDh1Tlupo8"
      }
    },
    {
      "cell_type": "code",
      "execution_count": null,
      "metadata": {
        "id": "cYcMV3OONUDQ",
        "colab": {
          "base_uri": "https://localhost:8080/"
        },
        "outputId": "6fae13a2-ae06-4972-8c0a-7c8224de1c20"
      },
      "outputs": [
        {
          "output_type": "stream",
          "name": "stdout",
          "text": [
            "addition [5 7 9]\n",
            "subtraction [-3 -3 -3]\n",
            "multiplication [ 4 10 18]\n",
            "division [0.25 0.4  0.5 ]\n"
          ]
        }
      ],
      "source": [
        "import numpy as np\n",
        "a=np.array([1, 2, 3])\n",
        "b=np.array([4, 5, 6])\n",
        "print(\"addition\",a + b)\n",
        "print(\"subtraction\",a-b)\n",
        "print(\"multiplication\",a*b)\n",
        "print(\"division\",a/b)"
      ]
    },
    {
      "cell_type": "markdown",
      "source": [
        "###Q2 Write a script to compute the mean and standard deviation of a NumPy array.\n"
      ],
      "metadata": {
        "id": "oRPx74Kyu4Dp"
      }
    },
    {
      "cell_type": "markdown",
      "source": [
        "# New Section"
      ],
      "metadata": {
        "id": "dNuo0B8L1M0b"
      }
    },
    {
      "cell_type": "code",
      "source": [
        "arr=np.array([1, 2, 3, 4, 5, 6, 7, 8, 9, 10])\n",
        "mean=np.mean(arr)\n",
        "std_dev=np.std(arr)\n",
        "print(\"mean:\",mean,\"std:\",std_dev)"
      ],
      "metadata": {
        "colab": {
          "base_uri": "https://localhost:8080/"
        },
        "id": "hZH1DCiqu9qa",
        "outputId": "49dbeed1-cb6b-4664-e59e-09020eb12656"
      },
      "execution_count": null,
      "outputs": [
        {
          "output_type": "stream",
          "name": "stdout",
          "text": [
            "mean: 5.5 std: 2.8722813232690143\n"
          ]
        }
      ]
    },
    {
      "cell_type": "code",
      "source": [],
      "metadata": {
        "id": "Tnw7luQnJUyF"
      },
      "execution_count": null,
      "outputs": []
    },
    {
      "cell_type": "markdown",
      "source": [
        "##Q3. Create a NumPy array of integers from 10 to 50 with a step size of 5."
      ],
      "metadata": {
        "id": "xlrOguI8vBn6"
      }
    },
    {
      "cell_type": "code",
      "source": [
        "\n",
        "arr=np.arange(10, 51, 5)\n",
        "print( \"array:\",arr)\n"
      ],
      "metadata": {
        "colab": {
          "base_uri": "https://localhost:8080/"
        },
        "id": "IOaejrTgvF6X",
        "outputId": "ab0be048-a076-482b-d94b-6363022fc39a"
      },
      "execution_count": null,
      "outputs": [
        {
          "output_type": "stream",
          "name": "stdout",
          "text": [
            "array: [10 15 20 25 30 35 40 45 50]\n"
          ]
        }
      ]
    },
    {
      "cell_type": "markdown",
      "source": [
        "###Q4. Reshape the array into a 2x4 matrix"
      ],
      "metadata": {
        "id": "qKXRcr7rvI3i"
      }
    },
    {
      "cell_type": "code",
      "source": [
        "import numpy as np\n",
        "\n",
        "arr=np.arange(10, 51, 5)[:8]\n",
        "reshaped=arr.reshape(2, 4)\n",
        "\n",
        "print(\"reshaped:\",reshaped)\n"
      ],
      "metadata": {
        "colab": {
          "base_uri": "https://localhost:8080/"
        },
        "id": "vvGFIWU0vJOL",
        "outputId": "ad7bfa14-97b4-47d5-ada1-674bef689887"
      },
      "execution_count": null,
      "outputs": [
        {
          "output_type": "stream",
          "name": "stdout",
          "text": [
            "reshaped: [[10 15 20 25]\n",
            " [30 35 40 45]]\n"
          ]
        }
      ]
    },
    {
      "cell_type": "markdown",
      "source": [
        "Q5.Given the array arr = np.array([[1, 2, 3], [4, 5, 6], [7, 8, 9]]):\n",
        "• Extract the sub-matrix containing the last two rows and first two columns.\n",
        "• Replace all elements greater than 4 with 0."
      ],
      "metadata": {
        "id": "6kHh9mSDiKO_"
      }
    },
    {
      "cell_type": "code",
      "source": [
        "\n",
        "arr=np.array([[1, 2, 3], [4, 5, 6], [7, 8, 9]])\n",
        "sub_matrix=arr[1:, :2]\n",
        "arr[arr > 4] = 0\n",
        "print(\"sub:\",sub_matrix)\n",
        "print(\"array\",arr)\n"
      ],
      "metadata": {
        "colab": {
          "base_uri": "https://localhost:8080/"
        },
        "id": "7IYlEZoPvKW0",
        "outputId": "4c7dc73e-b016-408b-b7c1-3c9109cb9151"
      },
      "execution_count": null,
      "outputs": [
        {
          "output_type": "stream",
          "name": "stdout",
          "text": [
            "sub: [[4 0]\n",
            " [0 0]]\n",
            "array [[1 2 3]\n",
            " [4 0 0]\n",
            " [0 0 0]]\n"
          ]
        }
      ]
    },
    {
      "cell_type": "markdown",
      "source": [
        "Q6.. Create two 1D arrays:\n",
        "* • a = np.array([1, 2, 3])\n",
        "* • b = np.array([4, 5, 6])\n",
        "* • Perform element-wise addition, multiplication, and division."
      ],
      "metadata": {
        "id": "OMI9Tjs-iNhL"
      }
    },
    {
      "cell_type": "code",
      "source": [
        "\n",
        "a=np.array([1, 2, 3])\n",
        "b=np.array([4, 5, 6])\n",
        "addition=a + b\n",
        "multiplication=a*b\n",
        "division =a/b\n",
        "addition,multiplication, division\n"
      ],
      "metadata": {
        "colab": {
          "base_uri": "https://localhost:8080/"
        },
        "id": "AUcpXFwXvLm6",
        "outputId": "77266979-ced4-4afd-ac00-938ebac47dce"
      },
      "execution_count": null,
      "outputs": [
        {
          "output_type": "execute_result",
          "data": {
            "text/plain": [
              "(array([5, 7, 9]), array([ 4, 10, 18]), array([0.25, 0.4 , 0.5 ]))"
            ]
          },
          "metadata": {},
          "execution_count": 5
        }
      ]
    },
    {
      "cell_type": "markdown",
      "source": [
        "Q7. Create a random NumPy array of size (4, 4). Compute:\n",
        "• Mean of each column.\n",
        "• Maximum value of the entire array.\n",
        "• Sum of all elements."
      ],
      "metadata": {
        "id": "GXrfG9yViPPs"
      }
    },
    {
      "cell_type": "code",
      "source": [
        "arr=np.random.randint(1, 100, size=(4, 4))\n",
        "mean_column=np.mean(arr, axis=0)\n",
        "max_value=np.max(arr)\n",
        "sum_elements=np.sum(arr)\n",
        "\n",
        "mean_column, max_value, sum_elements\n"
      ],
      "metadata": {
        "colab": {
          "base_uri": "https://localhost:8080/"
        },
        "id": "Cscn1K6tPKad",
        "outputId": "623fbe0c-7c26-462a-a8f2-b3b51bfe828f"
      },
      "execution_count": null,
      "outputs": [
        {
          "output_type": "execute_result",
          "data": {
            "text/plain": [
              "582"
            ]
          },
          "metadata": {},
          "execution_count": 19
        }
      ]
    },
    {
      "cell_type": "markdown",
      "source": [
        "Q8.Given the array arr = np.array([1, 2, 3, 4]), add 10 to each element and multiply\n",
        "the result by 2."
      ],
      "metadata": {
        "id": "mfVgy7T3iQ8R"
      }
    },
    {
      "cell_type": "code",
      "source": [
        "\n",
        "arr=np.array([1, 2, 3, 4])\n",
        "result=(arr + 10) * 2\n",
        "result\n"
      ],
      "metadata": {
        "colab": {
          "base_uri": "https://localhost:8080/"
        },
        "id": "sDvgjunoPMtS",
        "outputId": "45016b00-1ddc-4224-f219-ff5cf0e87852"
      },
      "execution_count": null,
      "outputs": [
        {
          "output_type": "execute_result",
          "data": {
            "text/plain": [
              "array([22, 24, 26, 28])"
            ]
          },
          "metadata": {},
          "execution_count": 3
        }
      ]
    },
    {
      "cell_type": "markdown",
      "source": [
        "Q9.  Perform advanced slicing and indexing on a 3D array.\n",
        "Create a 3D NumPy array arr of shape (3, 4, 5) with random integers ranging from\n",
        "1 to 100. Perform the following:\n",
        "• Extract the second \"layer\" (i.e., the second 2D array) in the first dimension.\n",
        "• Extract the first two rows and the last three columns from each \"layer.\"\n",
        "• Replace all elements divisible by 3 with -1."
      ],
      "metadata": {
        "id": "BwFqpaEXiSPT"
      }
    },
    {
      "cell_type": "code",
      "source": [
        "import numpy as np\n",
        "arr=np.random.randint(1, 100, size=(3, 4, 5))\n",
        "second_layer=arr[1]\n",
        "extracted_part=arr[:, :2, -3:]\n",
        "arr[arr % 3==0] =-1\n",
        "print(\"second layer:\",second_layer)\n",
        "print(\"extracted:\",extracted_part)\n",
        "print(\"array:\",arr)\n"
      ],
      "metadata": {
        "colab": {
          "base_uri": "https://localhost:8080/"
        },
        "id": "Ms7jB-GXPRaa",
        "outputId": "6a7657f1-f684-4b8f-b2ca-ff0d411c8428"
      },
      "execution_count": null,
      "outputs": [
        {
          "output_type": "stream",
          "name": "stdout",
          "text": [
            "second layer: [[37 53 16 -1 52]\n",
            " [-1 89 -1 -1 95]\n",
            " [23 80 52 20 22]\n",
            " [26 80 -1 14 -1]]\n",
            "extracted: [[[-1 26 28]\n",
            "  [73  4 32]]\n",
            "\n",
            " [[16 -1 52]\n",
            "  [-1 -1 95]]\n",
            "\n",
            " [[56 -1 80]\n",
            "  [ 5 25 52]]]\n",
            "array: [[[50 -1 -1 26 28]\n",
            "  [62 -1 73  4 32]\n",
            "  [-1 -1 -1 62 -1]\n",
            "  [-1 25 82 50 70]]\n",
            "\n",
            " [[37 53 16 -1 52]\n",
            "  [-1 89 -1 -1 95]\n",
            "  [23 80 52 20 22]\n",
            "  [26 80 -1 14 -1]]\n",
            "\n",
            " [[35 -1 56 -1 80]\n",
            "  [89 95  5 25 52]\n",
            "  [68  4 74 29 35]\n",
            "  [-1 32 56  2 55]]]\n"
          ]
        }
      ]
    },
    {
      "cell_type": "markdown",
      "source": [
        "Q10.Work with broadcasting and advanced operations in NumPy.\n",
        " Create a NumPy array arr of shape (3, 3) with random integers between\n",
        " 1 and 20. Perform the following:\n",
        "• Subtract the mean of each row from its respective elements (row-wise\n",
        "normalization).\n",
        "• Create a new array by squaring all the elements in arr.\n",
        "• Find the indices of the top 3 maximum values in the entire array."
      ],
      "metadata": {
        "id": "0JrGCpahiUcX"
      }
    },
    {
      "cell_type": "code",
      "source": [
        "\n",
        "arr=np.random.randint(1, 20, size=(3, 3))\n",
        "row_mean=np.mean(arr, axis=1, keepdims=True)\n",
        "normalized_arr=arr-row_mean\n",
        "squared_arr=np.power(arr, 2)\n",
        "top_3_indices=np.unravel_index(np.argsort(arr.ravel())[-3:], arr.shape)\n",
        "print(\"normalized\",normalized_arr)\n",
        "print(\"square\",squared_arr)\n",
        "print(\"top 3 indices\",top_3_indices)\n"
      ],
      "metadata": {
        "colab": {
          "base_uri": "https://localhost:8080/"
        },
        "id": "x0YoLFV7PVHV",
        "outputId": "892ec153-7559-4d85-c101-3770c2570c7f"
      },
      "execution_count": null,
      "outputs": [
        {
          "output_type": "stream",
          "name": "stdout",
          "text": [
            "normalized [[-5.66666667  3.33333333  2.33333333]\n",
            " [ 0.33333333 -7.66666667  7.33333333]\n",
            " [-4.66666667  1.33333333  3.33333333]]\n",
            "square [[ 64 289 256]\n",
            " [121   9 324]\n",
            " [ 64 196 256]]\n",
            "top 3 indices (array([2, 0, 1]), array([2, 1, 2]))\n"
          ]
        }
      ]
    }
  ]
}