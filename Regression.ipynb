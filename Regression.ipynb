{
  "nbformat": 4,
  "nbformat_minor": 0,
  "metadata": {
    "colab": {
      "provenance": [],
      "authorship_tag": "ABX9TyPUV3OJAPH8J/u7uOVYXKwH",
      "include_colab_link": true
    },
    "kernelspec": {
      "name": "python3",
      "display_name": "Python 3"
    },
    "language_info": {
      "name": "python"
    }
  },
  "cells": [
    {
      "cell_type": "markdown",
      "metadata": {
        "id": "view-in-github",
        "colab_type": "text"
      },
      "source": [
        "<a href=\"https://colab.research.google.com/github/addagarla-sairaju/ML-PYTHON/blob/main/Regression.ipynb\" target=\"_parent\"><img src=\"https://colab.research.google.com/assets/colab-badge.svg\" alt=\"Open In Colab\"/></a>"
      ]
    },
    {
      "cell_type": "markdown",
      "source": [
        "##Build a Multiple Linear Regression model on a dataset (eg: 50_startups)"
      ],
      "metadata": {
        "id": "Q6sCpsvDWhY-"
      }
    },
    {
      "cell_type": "code",
      "execution_count": null,
      "metadata": {
        "colab": {
          "base_uri": "https://localhost:8080/"
        },
        "id": "gILNIi81PbgR",
        "outputId": "c5575087-8d86-4772-aaef-c4872639f74a"
      },
      "outputs": [
        {
          "output_type": "stream",
          "name": "stdout",
          "text": [
            "Multiple Linear Regression Results:\n",
            "Mean Squared Error (MSE): 239539562.2908166\n",
            "R-squared (R²): 0.38538399087029185\n",
            "\n",
            "Model Coefficients:\n",
            "     Feature   Coefficient\n",
            "0  Intercept  54861.320804\n",
            "1  Feature_1   3374.837589\n",
            "2  Feature_2   1414.315140\n",
            "3  Feature_3      0.763218\n",
            "4  Feature_4     -0.045782\n",
            "5  Feature_5      0.029118\n"
          ]
        }
      ],
      "source": [
        "import pandas as pd\n",
        "import numpy as np\n",
        "\n",
        "file_path = '/content/50_Startups.csv'\n",
        "data = pd.read_csv(file_path)\n",
        "\n",
        "unique_states = data['State'].unique()\n",
        "state_onehot = np.zeros((len(data), len(unique_states) - 1))\n",
        "\n",
        "for idx, state in enumerate(unique_states[1:]):\n",
        "      state_onehot[:, idx] = (data['State'] == state).astype(int)\n",
        "numerical_columns = data.columns.drop('State')\n",
        "data_encoded = np.hstack((state_onehot, data[numerical_columns].values))\n",
        "\n",
        "encoded_column_names = [f'State_{state}' for state in unique_states[1:]]\n",
        "all_column_names = encoded_column_names + list(numerical_columns)\n",
        "\n",
        "data_encoded_df = pd.DataFrame(data_encoded, columns=all_column_names)\n",
        "\n",
        "X = data_encoded_df.drop('Profit', axis=1).values\n",
        "y = data_encoded_df['Profit'].values\n",
        "\n",
        "split_index = int(0.8 * len(X))\n",
        "X_train, X_test = X[:split_index], X[split_index:]\n",
        "y_train, y_test = y[:split_index], y[split_index:]\n",
        "\n",
        "X_train_augmented = np.c_[np.ones(X_train.shape[0]), X_train]\n",
        "X_test_augmented = np.c_[np.ones(X_test.shape[0]), X_test]\n",
        "theta = np.linalg.inv(X_train_augmented.T @ X_train_augmented) @ X_train_augmented.T @ y_train\n",
        "\n",
        "y_pred = X_test_augmented @ theta\n",
        "\n",
        "mse = np.mean((y_test - y_pred) ** 2)\n",
        "r2 = 1 - (np.sum((y_test - y_pred) ** 2) / np.sum((y_test - np.mean(y_test)) ** 2))\n",
        "\n",
        "print(\"Multiple Linear Regression Results:\")\n",
        "print(f\"Mean Squared Error (MSE): {mse}\")\n",
        "print(f\"R-squared (R²): {r2}\")\n",
        "\n",
        "coefficients = pd.DataFrame({\n",
        "    \"Feature\": [\"Intercept\"] + [f\"Feature_{i}\" for i in range(1, X_train_augmented.shape[1])],\n",
        "    \"Coefficient\": theta\n",
        "})\n",
        "print(\"\\nModel Coefficients:\")\n",
        "print(coefficients)\n"
      ]
    },
    {
      "cell_type": "markdown",
      "source": [
        "##Apply L2 regularization on the created simple and multiple linear regression. What is yourobservation?"
      ],
      "metadata": {
        "id": "belUa0SEWabe"
      }
    },
    {
      "cell_type": "code",
      "source": [
        "import pandas as pd\n",
        "import numpy as np\n",
        "from sklearn.model_selection import train_test_split\n",
        "from sklearn.preprocessing import StandardScaler\n",
        "from sklearn.linear_model import LinearRegression, Ridge\n",
        "from sklearn.metrics import mean_squared_error, r2_score\n",
        "\n",
        "print(\"Dataset Head:\")\n",
        "print(df.head())\n",
        "X = df.drop('Profit', axis=1)\n",
        "y = df['Profit']\n",
        "X = pd.get_dummies(X, drop_first=True)\n",
        "X_train, X_test, y_train, y_test = train_test_split(X, y, test_size=0.2, random_state=42)\n",
        "scaler = StandardScaler()\n",
        "X_train = scaler.fit_transform(X_train)\n",
        "X_test = scaler.transform(X_test)\n",
        "X_train_simple = X_train[:, 0].reshape(-1, 1)\n",
        "X_test_simple = X_test[:, 0].reshape(-1, 1)\n",
        "\n",
        "\n",
        "ridge_simple=Ridge(alpha=1.0)\n",
        "ridge_simple.fit(X_train_simple, y_train)\n",
        "y_pred_ridge_simple=ridge_simple.predict(X_test_simple)\n",
        "\n",
        "mse_ridge_simple=mean_squared_error(y_test, y_pred_ridge_simple)\n",
        "r2_ridge_simple=r2_score(y_test, y_pred_ridge_simple)\n",
        "ridge_multiple=Ridge(alpha=1.0)\n",
        "ridge_multiple.fit(X_train, y_train)\n",
        "y_pred_ridge_multiple=ridge_multiple.predict(X_test)\n",
        "\n",
        "mse_ridge_multiple=mean_squared_error(y_test, y_pred_ridge_multiple)\n",
        "r2_ridge_multiple=r2_score(y_test, y_pred_ridge_multiple)\n",
        "print(\"\\nRidge Regression (Simple Linear Regression with L2 Regularization):\")\n",
        "print(f\"MSE: {mse_ridge_simple:.2f}, R²: {r2_ridge_simple:.2f}\")\n",
        "\n",
        "print(\"\\nRidge Regression (Multiple Linear Regression with L2 Regularization):\")\n",
        "print(f\"MSE: {mse_ridge_multiple:.2f}, R²: {r2_ridge_multiple:.2f}\")\n"
      ],
      "metadata": {
        "colab": {
          "base_uri": "https://localhost:8080/"
        },
        "id": "odNs9fDuQFzb",
        "outputId": "1b37efed-9341-4103-8fa0-c22919a3dd53"
      },
      "execution_count": null,
      "outputs": [
        {
          "output_type": "stream",
          "name": "stdout",
          "text": [
            "Dataset Head:\n",
            "   R&D Spend  Administration  Marketing Spend       State     Profit\n",
            "0  165349.20       136897.80        471784.10    New York  192261.83\n",
            "1  162597.70       151377.59        443898.53  California  191792.06\n",
            "2  153441.51       101145.55        407934.54     Florida  191050.39\n",
            "3  144372.41       118671.85        383199.62    New York  182901.99\n",
            "4  142107.34        91391.77        366168.42     Florida  166187.94\n",
            "\n",
            "Ridge Regression (Simple Linear Regression with L2 Regularization):\n",
            "MSE: 60644596.55, R²: 0.93\n",
            "\n",
            "Ridge Regression (Multiple Linear Regression with L2 Regularization):\n",
            "MSE: 84731799.39, R²: 0.90\n"
          ]
        }
      ]
    },
    {
      "cell_type": "markdown",
      "source": [
        "##Apply L1 regularization on the created simple and multiple linear regression. What is your observation?"
      ],
      "metadata": {
        "id": "d-p2jJHYWP6z"
      }
    },
    {
      "cell_type": "code",
      "source": [
        "import numpy as np\n",
        "import pandas as pd\n",
        "def lasso_regression(X, y, lambda_=1.0, max_iter=1000, tol=1e-4):\n",
        "    m, n = X.shape\n",
        "    theta = np.zeros(n)\n",
        "    X_transpose = X.T\n",
        "    prev_theta = np.copy(theta)\n",
        "\n",
        "    for _ in range(max_iter):\n",
        "\n",
        "        for j in range(n):\n",
        "            X_j = X[:, j]\n",
        "            residual = y - X.dot(theta) + theta[j] * X_j\n",
        "\n",
        "            if j == 0:\n",
        "                theta[j] = np.dot(X_j, residual) / np.dot(X_j, X_j)\n",
        "            else:\n",
        "                theta[j] = np.sign(np.dot(X_j, residual)) * max(0, (np.dot(X_j, residual) - lambda_) / np.dot(X_j, X_j))\n",
        "\n",
        "        if np.linalg.norm(theta - prev_theta, ord=2) < tol:\n",
        "            break\n",
        "        prev_theta = np.copy(theta)\n",
        "\n",
        "    return theta\n",
        "\n",
        "\n",
        "def simple_lasso(X_train, y_train, X_test, y_test, lambda_=1.0):\n",
        "    X_train = np.c_[np.ones(X_train.shape[0]), X_train]\n",
        "    X_test = np.c_[np.ones(X_test.shape[0]), X_test]\n",
        "    theta = lasso_regression(X_train, y_train, lambda_)\n",
        "\n",
        "    y_pred = X_test.dot(theta)\n",
        "    mse = np.mean((y_test - y_pred) ** 2)\n",
        "    ss_tot = np.sum((y_test - np.mean(y_test)) ** 2)\n",
        "    ss_res = np.sum((y_test - y_pred) ** 2)\n",
        "    r2 = 1 - (ss_res / ss_tot)\n",
        "\n",
        "    return theta, mse, r2\n",
        "def multiple_lasso(X_train, y_train, X_test, y_test, lambda_=1.0):\n",
        "    X_train = np.c_[np.ones(X_train.shape[0]), X_train]\n",
        "    X_test = np.c_[np.ones(X_test.shape[0]), X_test]\n",
        "\n",
        "    theta = lasso_regression(X_train, y_train, lambda_)\n",
        "\n",
        "    y_pred = X_test.dot(theta)\n",
        "\n",
        "    mse = np.mean((y_test - y_pred) ** 2)\n",
        "    ss_tot = np.sum((y_test - np.mean(y_test)) ** 2)\n",
        "    ss_res = np.sum((y_test - y_pred) ** 2)\n",
        "    r2 = 1 - (ss_res / ss_tot)\n",
        "\n",
        "    return theta, mse, r2\n",
        "\n",
        "X_train_simple = np.array([1, 2, 3, 4, 5])\n",
        "y_train_simple = np.array([1, 2, 1.5, 3.5, 5])\n",
        "X_test_simple = np.array([6, 7, 8])\n",
        "y_test_simple = np.array([5, 6, 7])\n",
        "\n",
        "theta_simple, mse_simple, r2_simple = simple_lasso(X_train_simple, y_train_simple, X_test_simple, y_test_simple, lambda_=1.0)\n",
        "print(\"Simple Lasso Regression Results:\")\n",
        "print(f\"Model Coefficients (Theta): {theta_simple}\")\n",
        "print(f\"Mean Squared Error (MSE): {mse_simple}\")\n",
        "print(f\"R-squared (R²): {r2_simple}\")\n",
        "\n",
        "X_train_multiple = np.array([[1, 2], [2, 3], [3, 4], [4, 5], [5, 6]])\n",
        "y_train_multiple = np.array([5, 7, 8, 10, 12])\n",
        "X_test_multiple = np.array([[6, 7], [7, 8], [8, 9]])\n",
        "y_test_multiple = np.array([14, 16, 18])\n",
        "\n",
        "theta_multiple, mse_multiple, r2_multiple = multiple_lasso(X_train_multiple, y_train_multiple, X_test_multiple, y_test_multiple, lambda_=1.0)\n",
        "print(\"Multiple Lasso Regression Results:\")\n",
        "print(f\"Model Coefficients (Theta): {theta_multiple}\")\n",
        "print(f\"Mean Squared Error (MSE): {mse_multiple}\")\n",
        "print(f\"R-squared (R²): {r2_multiple}\")\n"
      ],
      "metadata": {
        "colab": {
          "base_uri": "https://localhost:8080/"
        },
        "id": "nrQjFtdqVke2",
        "outputId": "79794a42-85cd-49e6-d792-5dfebd7a543b"
      },
      "execution_count": null,
      "outputs": [
        {
          "output_type": "stream",
          "name": "stdout",
          "text": [
            "Simple Lasso Regression Results:\n",
            "Model Coefficients (Theta): [0.05037319 0.84989822]\n",
            "Mean Squared Error (MSE): 0.01502047794024052\n",
            "R-squared (R²): 0.9774692830896392\n",
            "Multiple Lasso Regression Results:\n",
            "Model Coefficients (Theta): [3.60038475 1.59989507 0.        ]\n",
            "Mean Squared Error (MSE): 1.5475622235014512\n",
            "R-squared (R²): 0.4196641661869558\n"
          ]
        }
      ]
    }
  ]
}